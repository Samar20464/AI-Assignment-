{
 "cells": [
  {
   "cell_type": "code",
   "execution_count": 1,
   "id": "e1beccf1-701e-4773-9778-dabc38650584",
   "metadata": {},
   "outputs": [],
   "source": [
    "import numpy as np"
   ]
  },
  {
   "cell_type": "code",
   "execution_count": 55,
   "id": "2365560e-6a7a-4da7-a5a6-7206b32affb0",
   "metadata": {},
   "outputs": [],
   "source": [
    "def StepGradient(points, learningRate, w, b):\n",
    "    w_slope = 0\n",
    "    b_slope = 0\n",
    "    M = len(points)\n",
    "    i = 0  # Initialize index variable\n",
    "\n",
    "    while i < M:\n",
    "        x = points[i, 0]\n",
    "        y = points[i, 1]\n",
    "        w_slope += (-2/M) * (y - w * x - b) * x\n",
    "        b_slope += (-2/M) * (y - w * x - b) * y\n",
    "        i += 1  # Increment index\n",
    "\n",
    "    new_w = w - learningRate * w_slope\n",
    "    new_b = b - learningRate * b_slope\n",
    "    return new_w, new_b\n"
   ]
  },
  {
   "cell_type": "code",
   "execution_count": 56,
   "id": "031ea4c2-61cd-4b50-bddb-ded0f611a3ef",
   "metadata": {},
   "outputs": [],
   "source": [
    "def gradientDescent(points, learning_rate, iterations):\n",
    "    w = 0       # Initial random value taken as 0\n",
    "    b = 0       # Initial random value taken as 0\n",
    "    for i in range(iterations):\n",
    "        w, b = StepGradient(points, learning_rate, w , b)\n",
    "    return w, b\n"
   ]
  },
  {
   "cell_type": "code",
   "execution_count": 57,
   "id": "80b2f4f4-d2e6-48f4-8a18-791f85c1daa4",
   "metadata": {},
   "outputs": [
    {
     "name": "stdout",
     "output_type": "stream",
     "text": [
      "w =  23.013765432746965 , b =  48.233885584724874\n"
     ]
    }
   ],
   "source": [
    "# Generate the data\n",
    "X = np.arange(-20, 20, 0.1)\n",
    "np.random.shuffle(X)\n",
    "eps = np.random.rand(400) * 10\n",
    "y = 23*X + 43 + eps\n",
    "\n",
    "# Combine X and y\n",
    "points = np.column_stack((X, y))\n",
    "\n",
    "# Run the gradient descent\n",
    "m, c = gradientDescent(points, 0.001, 100)\n",
    "\n",
    "print(\"w = \", m, \", b = \", c)"
   ]
  },
  {
   "cell_type": "code",
   "execution_count": null,
   "id": "ea6780d6-d20a-48f1-8349-e99149a2d4f0",
   "metadata": {},
   "outputs": [],
   "source": []
  }
 ],
 "metadata": {
  "kernelspec": {
   "display_name": "Python 3 (ipykernel)",
   "language": "python",
   "name": "python3"
  },
  "language_info": {
   "codemirror_mode": {
    "name": "ipython",
    "version": 3
   },
   "file_extension": ".py",
   "mimetype": "text/x-python",
   "name": "python",
   "nbconvert_exporter": "python",
   "pygments_lexer": "ipython3",
   "version": "3.9.13"
  }
 },
 "nbformat": 4,
 "nbformat_minor": 5
}
